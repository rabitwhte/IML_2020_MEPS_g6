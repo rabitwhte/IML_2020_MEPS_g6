{
 "cells": [
  {
   "cell_type": "code",
   "execution_count": 1,
   "metadata": {},
   "outputs": [],
   "source": [
    "import pandas as pd\n",
    "import numpy as np\n",
    "import pickle\n",
    "\n",
    "from sklearn.preprocessing import OneHotEncoder, StandardScaler\n",
    "from sklearn.pipeline import Pipeline\n",
    "from sklearn.compose import ColumnTransformer\n",
    "from sklearn.ensemble import GradientBoostingRegressor"
   ]
  },
  {
   "cell_type": "code",
   "execution_count": 2,
   "metadata": {},
   "outputs": [],
   "source": [
    "def transform_target_log3(data, target_name):\n",
    "    val = data[target_name].values \n",
    "    return np.array([0 if v == 0 else np.log(v) / np.log(3) for v in val])\n",
    "\n",
    "\n",
    "def read_x_y(path, target_name):\n",
    "    data = pd.read_csv(path)\n",
    "    data[target_name] = transform_target_log3(data, target_name)\n",
    "    X = data.drop(columns = target_name)\n",
    "    y = data[target_name]\n",
    "    return X, y\n",
    "\n",
    "\n",
    "def get_categorical_features(data):\n",
    "    num_unique = data.nunique()\n",
    "    categorical_features = num_unique[num_unique <= 10].index.tolist()\n",
    "    # Remove variables from categorical features list that can be treated as continuous\n",
    "    for col in [\"POVCAT15\", \"RTHLTH31\", \"MNHLTH31\"]:\n",
    "        categorical_features.remove(col)\n",
    "    return categorical_features"
   ]
  },
  {
   "cell_type": "markdown",
   "metadata": {},
   "source": [
    "---"
   ]
  },
  {
   "cell_type": "code",
   "execution_count": 3,
   "metadata": {},
   "outputs": [],
   "source": [
    "path = \".\\..\\..\\data\\MEPS_data_preprocessed_train.csv\"\n",
    "X, y = read_x_y(path, \"HEALTHEXP\")"
   ]
  },
  {
   "cell_type": "code",
   "execution_count": 4,
   "metadata": {},
   "outputs": [],
   "source": [
    "categorical_features = get_categorical_features(X)\n",
    "numerical_features= [f for f in X.columns if f not in categorical_features]\n",
    "\n",
    "for f in categorical_features:\n",
    "    X[f] = X[f].astype(\"str\")\n",
    "\n",
    "categorical_transformer = Pipeline(\n",
    "    steps = [\n",
    "        (\"onehot\", OneHotEncoder(handle_unknown = \"ignore\"))\n",
    "    ]\n",
    ")\n",
    "\n",
    "numerical_transformer = Pipeline(\n",
    "    steps = [\n",
    "        (\"scaler\", StandardScaler())\n",
    "    ]\n",
    ")\n",
    "\n",
    "preprocessor = ColumnTransformer(\n",
    "    transformers = [\n",
    "        (\"cat\", categorical_transformer, categorical_features),\n",
    "        (\"num\", numerical_transformer, numerical_features)\n",
    "    ]\n",
    ")\n",
    "\n",
    "regressor = GradientBoostingRegressor(n_estimators = 76, \n",
    "                                    max_depth = 5,\n",
    "                                    min_samples_split = 2,\n",
    "                                    min_samples_leaf = 5,\n",
    "                                    random_state = 123)\n",
    "\n",
    "reg_xgb = Pipeline(steps = [(\"preprocessor\", preprocessor),\n",
    "                      (\"regressor\", regressor)])"
   ]
  },
  {
   "cell_type": "code",
   "execution_count": 5,
   "metadata": {},
   "outputs": [
    {
     "data": {
      "text/plain": [
       "Pipeline(memory=None,\n",
       "         steps=[('preprocessor',\n",
       "                 ColumnTransformer(n_jobs=None, remainder='drop',\n",
       "                                   sparse_threshold=0.3,\n",
       "                                   transformer_weights=None,\n",
       "                                   transformers=[('cat',\n",
       "                                                  Pipeline(memory=None,\n",
       "                                                           steps=[('onehot',\n",
       "                                                                   OneHotEncoder(categories='auto',\n",
       "                                                                                 drop=None,\n",
       "                                                                                 dtype=<class 'numpy.float64'>,\n",
       "                                                                                 handle_unknown='ignore',\n",
       "                                                                                 sparse=True))],\n",
       "                                                           verbose=False),\n",
       "                                                  ['REGION', 'GENDER', 'RACE3',\n",
       "                                                   'M...\n",
       "                                           learning_rate=0.1, loss='ls',\n",
       "                                           max_depth=5, max_features=None,\n",
       "                                           max_leaf_nodes=None,\n",
       "                                           min_impurity_decrease=0.0,\n",
       "                                           min_impurity_split=None,\n",
       "                                           min_samples_leaf=5,\n",
       "                                           min_samples_split=2,\n",
       "                                           min_weight_fraction_leaf=0.0,\n",
       "                                           n_estimators=76,\n",
       "                                           n_iter_no_change=None,\n",
       "                                           presort='deprecated',\n",
       "                                           random_state=123, subsample=1.0,\n",
       "                                           tol=0.0001, validation_fraction=0.1,\n",
       "                                           verbose=0, warm_start=False))],\n",
       "         verbose=False)"
      ]
     },
     "execution_count": 5,
     "metadata": {},
     "output_type": "execute_result"
    }
   ],
   "source": [
    "reg_xgb.fit(X, y)"
   ]
  },
  {
   "cell_type": "code",
   "execution_count": 6,
   "metadata": {},
   "outputs": [],
   "source": [
    "pickle.dump(reg_xgb, open(\"MEPS_xgb_model_final_v2_cat_vars_str.pickle\", \"wb\"))"
   ]
  }
 ],
 "metadata": {
  "kernelspec": {
   "display_name": "Python 3",
   "language": "python",
   "name": "python3"
  },
  "language_info": {
   "codemirror_mode": {
    "name": "ipython",
    "version": 3
   },
   "file_extension": ".py",
   "mimetype": "text/x-python",
   "name": "python",
   "nbconvert_exporter": "python",
   "pygments_lexer": "ipython3",
   "version": "3.7.4"
  }
 },
 "nbformat": 4,
 "nbformat_minor": 2
}
