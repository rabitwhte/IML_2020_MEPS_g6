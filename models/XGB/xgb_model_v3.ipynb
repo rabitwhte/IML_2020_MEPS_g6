{
 "cells": [
  {
   "cell_type": "code",
   "execution_count": 1,
   "metadata": {
    "pycharm": {
     "name": "#%%\n"
    }
   },
   "outputs": [],
   "source": [
    "import pickle\n",
    "import pandas as pd\n",
    "import dalex as dx\n",
    "import numpy as np\n",
    "import random\n",
    "import re\n",
    "\n",
    "from sklearn.linear_model import Ridge\n",
    "from sklearn.model_selection import GridSearchCV\n",
    "\n",
    "\n",
    "from sklearn.preprocessing import OneHotEncoder, StandardScaler\n",
    "from sklearn.pipeline import Pipeline\n",
    "from sklearn.compose import ColumnTransformer\n",
    "from sklearn.ensemble import GradientBoostingRegressor\n",
    "from sklearn.inspection import permutation_importance\n",
    "from sklearn.metrics import r2_score, mean_squared_error, mean_absolute_error\n",
    "\n",
    "import matplotlib.pyplot as plt\n",
    "\n",
    "from multiprocessing import Pool"
   ]
  },
  {
   "cell_type": "code",
   "execution_count": 3,
   "metadata": {
    "pycharm": {
     "name": "#%%\n"
    }
   },
   "outputs": [],
   "source": [
    "pickle_in = open(\"MEPS_xgb_model_final_v2_cat_vars_str.pickle\", \"rb\")\n",
    "reg_xgb = pickle.load(pickle_in);"
   ]
  },
  {
   "cell_type": "code",
   "execution_count": 4,
   "metadata": {
    "pycharm": {
     "name": "#%%\n"
    }
   },
   "outputs": [
    {
     "name": "stdout",
     "output_type": "stream",
     "text": [
      "../../data/MEPS_data_preprocessed_train.csv\n",
      "../../data/MEPS_data_preprocessed_test.csv\n"
     ]
    }
   ],
   "source": [
    "def transform_target_log3(data, target_name):\n",
    "    val = data[target_name].values\n",
    "    return np.array([0 if v == 0 else np.log(v) / np.log(3) for v in val])\n",
    "\n",
    "def read_x_y(path, target_name):\n",
    "    print(path)\n",
    "    data = pd.read_csv(path)\n",
    "    data[target_name] = transform_target_log3(data, target_name)\n",
    "    X = data.drop(columns = target_name)\n",
    "    y = data[target_name]\n",
    "    return X, y\n",
    "\n",
    "\n",
    "def get_categorical_features(data):\n",
    "    num_unique = data.nunique()\n",
    "    categorical_features = num_unique[num_unique <= 10].index.tolist()\n",
    "    # Remove variables from categorical features list that can be treated as continuous\n",
    "    for col in [\"POVCAT15\", \"RTHLTH31\", \"MNHLTH31\"]:\n",
    "        categorical_features.remove(col)\n",
    "    return categorical_features\n",
    "\n",
    "path = \"../../data/MEPS_data_preprocessed\"\n",
    "x_train, y_train = read_x_y(path + \"_train.csv\", \"HEALTHEXP\")\n",
    "x_test, y_test = read_x_y(path + \"_test.csv\", \"HEALTHEXP\")\n",
    "\n",
    "\n",
    "categorical_features = get_categorical_features(x_train)\n",
    "numerical_features= [f for f in x_train.columns if f not in categorical_features]\n",
    "\n",
    "for f in categorical_features:\n",
    "    x_train[f] = x_train[f].astype(\"str\")\n",
    "    x_test[f] = x_test[f].astype(\"str\")\n"
   ]
  },
  {
   "cell_type": "code",
   "execution_count": 5,
   "metadata": {
    "pycharm": {
     "name": "#%%\n"
    }
   },
   "outputs": [
    {
     "name": "stdout",
     "output_type": "stream",
     "text": [
      "The reset parameter is False but there is no n_features_in_ attribute. Is this estimator fitted?\n",
      "The reset parameter is False but there is no n_features_in_ attribute. Is this estimator fitted?\n"
     ]
    }
   ],
   "source": [
    "# Creating dalex explainer\n",
    "exp_xgb = dx.Explainer(reg_xgb, x_train, y_train, label = \"MEPS\", verbose=False)"
   ]
  },
  {
   "cell_type": "markdown",
   "metadata": {},
   "source": [
    "### Creating list of variables describing diseases"
   ]
  },
  {
   "cell_type": "code",
   "execution_count": 6,
   "metadata": {
    "pycharm": {
     "name": "#%%\n"
    }
   },
   "outputs": [
    {
     "name": "stdout",
     "output_type": "stream",
     "text": [
      "['HIBPDX', 'CHDDX', 'ANGIDX', 'MIDX', 'OHRTDX', 'STRKDX', 'EMPHDX', 'CHOLDX', 'CANCERDX', 'DIABDX', 'ARTHDX', 'ASTHDX', 'ADHDADDX']\n"
     ]
    }
   ],
   "source": [
    "dis_inx = [x for x in x_train.columns.tolist() if 'DX' in x]\n",
    "print(dis_inx)"
   ]
  },
  {
   "cell_type": "code",
   "execution_count": 7,
   "metadata": {
    "pycharm": {
     "name": "#%%\n"
    }
   },
   "outputs": [],
   "source": [
    "def plot_model_permutation_feature_importance(model, X_test, Y_test, model_name: str):\n",
    "    result = permutation_importance(model, X_test, Y_test, n_repeats=10,\n",
    "                                random_state=42, n_jobs=2)\n",
    "    return result\n",
    "\n",
    "reg_xgb.fit(x_train, y_train)\n",
    "res = plot_model_permutation_feature_importance(reg_xgb, x_test, y_test, \"XGB \")"
   ]
  },
  {
   "cell_type": "code",
   "execution_count": 8,
   "outputs": [
    {
     "data": {
      "text/plain": "<Figure size 720x360 with 1 Axes>",
      "image/png": "[encoded data removed]"
     },
     "metadata": {
      "needs_background": "light"
     },
     "output_type": "display_data"
    }
   ],
   "source": [
    "sorted_idx = res.importances_mean.argsort().tolist()\n",
    "dis_var = []\n",
    "for d in dis_inx:\n",
    "    dis_var.append(x_test.columns.get_loc(d))\n",
    "sorted_idx = [x for x in sorted_idx  if x in dis_var ]\n",
    "fig, ax = plt.subplots(figsize=(10,5))\n",
    "bp = ax.boxplot(res.importances[sorted_idx].T, patch_artist=True,\n",
    "           vert=False, labels=x_test.columns[sorted_idx])\n",
    "for element in ['boxes', 'whiskers', 'fliers', 'means', 'medians', 'caps']:\n",
    "        plt.setp(bp[element], color='blue')\n",
    "for patch in bp['boxes']:\n",
    "    patch.set(facecolor='lightblue')\n",
    "ax.set_title(f\"Permutation Importance for XGB\")\n",
    "fig.tight_layout()\n",
    "plt.savefig(\"06_avg_disesase_pif_values\")"
   ],
   "metadata": {
    "collapsed": false,
    "pycharm": {
     "name": "#%%\n"
    }
   }
  },
  {
   "cell_type": "code",
   "execution_count": 9,
   "metadata": {
    "pycharm": {
     "name": "#%%\n"
    }
   },
   "outputs": [],
   "source": [
    "# Getting patients with a given disease\n",
    "dis_dict = {x: [] for x in dis_inx}\n",
    "\n",
    "def get_patients_with_diseases(dis_name: str):\n",
    "    for index, row in x_train.iterrows():\n",
    "        if row[dis_name] == '1':\n",
    "            dis_dict[dis_name].append(index)\n",
    "\n",
    "for disease in dis_inx:\n",
    "    get_patients_with_diseases(disease)"
   ]
  },
  {
   "cell_type": "code",
   "execution_count": 10,
   "metadata": {
    "pycharm": {
     "name": "#%%\n"
    }
   },
   "outputs": [],
   "source": [
    "# Creating random subset of patients for every disease\n",
    "def get_random_subset_of_patients(size: int):\n",
    "    dis_subset = {x: [] for x in dis_inx}\n",
    "    for dis in dis_dict:\n",
    "        dis_subset[dis] = random.sample(dis_dict[dis], min(size, len(dis_dict[dis])))\n",
    "    return dis_subset\n",
    "\n",
    "dis_dict_subset = get_random_subset_of_patients(50)\n",
    "\n",
    "def get_distinct_patient_no(dis_with_patient: dict):\n",
    "    list_patient_no = [no for key in dis_with_patient for no in dis_with_patient[key]]\n",
    "    return list(set(list_patient_no))\n",
    "\n",
    "patient_no = get_distinct_patient_no(dis_dict_subset)"
   ]
  },
  {
   "cell_type": "code",
   "execution_count": null,
   "metadata": {
    "pycharm": {
     "name": "#%%\n"
    }
   },
   "outputs": [],
   "source": [
    "# Calculate shap results\n",
    "df_res_sh = pd.DataFrame(columns=[\"Index\", \"Dis\", \"Sh\"])\n",
    "\n",
    "def get_shap_values(inx, df):\n",
    "    sh_res = exp_xgb.predict_parts(pd.DataFrame(x_train.iloc[[inx]]), type='shap')\n",
    "    for dis in dis_inx:\n",
    "        if inx in dis_dict_subset[dis]:\n",
    "            val = sh_res.result.loc[sh_res.result[\"variable\"]== f\"{dis} = 1\"]['contribution'].mean()\n",
    "            df = df.append({'Index': inx, 'Dis': dis, 'Sh': val}, ignore_index=True)\n",
    "    return df\n",
    "\n",
    "# with Pool(4) as p:\n",
    "#     p.map(gef_shap_values, patient_no)\n",
    "\n",
    "for no in patient_no:\n",
    "    df_res_sh = get_shap_values(no, df_res_sh)"
   ]
  },
  {
   "cell_type": "code",
   "execution_count": 11,
   "metadata": {
    "pycharm": {
     "name": "#%%\n"
    }
   },
   "outputs": [],
   "source": [
    "# Reading saved shap values from file\n",
    "\n",
    "df_res_sh = pd.DataFrame(columns=[\"Index\", \"Dis\", \"Sh\"])\n",
    "\n",
    "with open('patients_shap_50.txt', 'r') as file:\n",
    "    for line in file:\n",
    "        if not re.match(\"^[0-9 ]+$\", line):\n",
    "            parts = re.split('\\s|(?<!\\d)[,.](?!\\d)', line)\n",
    "            if len(parts) >= 3:\n",
    "                df_res_sh = df_res_sh.append({'Index': parts[0], 'Dis': parts[1], 'Sh': float(parts[2])}, ignore_index=True)"
   ]
  },
  {
   "cell_type": "markdown",
   "metadata": {
    "pycharm": {
     "name": "#%% md\n"
    }
   },
   "source": [
    "### Average shap value for each variable describing disease"
   ]
  },
  {
   "cell_type": "code",
   "execution_count": 12,
   "metadata": {
    "pycharm": {
     "name": "#%%\n"
    }
   },
   "outputs": [
    {
     "data": {
      "text/plain": "<Figure size 1080x360 with 1 Axes>",
      "image/png": "[encoded data removed]"
     },
     "metadata": {
      "needs_background": "light"
     },
     "output_type": "display_data"
    }
   ],
   "source": [
    "# Calculating mean shap value for each disease\n",
    "df_sh_mean = { n : df_res_sh.loc[df_res_sh['Dis'] == n, 'Sh'].mean() for n in dis_inx }\n",
    "d_view = [(k, v) for k, v in sorted(df_sh_mean.items(), key=lambda x: x[1], reverse=True)]\n",
    "\n",
    "plt.figure(figsize=(15, 5))\n",
    "bars = plt.bar(range(len(dis_inx)), [val for dis, val in d_view], align='center', width=0.8)\n",
    "plt.xticks(range(len(dis_inx)), [dis for dis, val in d_view])\n",
    "for bar in bars:\n",
    "    yval = bar.get_height()\n",
    "    plt.text(bar.get_x(), yval + .005, round(yval, 3))\n",
    "plt.show(\"06_avg_diseases_shap_values\")"
   ]
  },
  {
   "cell_type": "markdown",
   "metadata": {},
   "source": [
    "### Transforming the data input by deleting all disease related variables and created new column called POSVT (POSitiVe Tested) that is a weighted sum of positive disease diagnoses"
   ]
  },
  {
   "cell_type": "code",
   "execution_count": 13,
   "metadata": {
    "pycharm": {
     "name": "#%%\n"
    }
   },
   "outputs": [],
   "source": [
    "# Adding column about positive diagnosed diseases with weighted values\n",
    "fn = lambda row: sum([float(row[n]) * df_sh_mean[n] for n in dis_inx if int(row[n]) == 1])\n",
    "col_train = x_train.apply(fn, axis=1)\n",
    "col_test = x_test.apply(fn, axis=1)\n",
    "x_train = x_train.assign(POSVT=col_train.values)\n",
    "x_test = x_test.assign(POSVT=col_test.values)\n",
    "numerical_features.append(\"POSVT\")\n",
    "# Removing columns about diseases\n",
    "x_train =  x_train.drop(dis_inx, 1)\n",
    "x_test = x_test.drop(dis_inx, 1)"
   ]
  },
  {
   "cell_type": "code",
   "execution_count": 14,
   "metadata": {
    "pycharm": {
     "name": "#%%\n"
    }
   },
   "outputs": [],
   "source": [
    "cat_inx = categorical_features\n",
    "for x in dis_inx:\n",
    "    cat_inx.remove(x)\n",
    "\n",
    "numerical_features.append(\"POSVT\")"
   ]
  },
  {
   "cell_type": "code",
   "execution_count": 15,
   "metadata": {
    "pycharm": {
     "name": "#%%\n"
    }
   },
   "outputs": [],
   "source": [
    "def print_model_results(y_train, y_pred_train, y_test, y_pred_test):\n",
    "    mse_train = mean_squared_error(y_train, y_pred_train)\n",
    "    rmse_train = np.sqrt(mse_train)\n",
    "\n",
    "    mse_test = mean_squared_error(y_test, y_pred_test)\n",
    "    rmse_test = np.sqrt(mse_test)\n",
    "    print(\"Training: \\nRMSE: \", rmse_train, \" | MAE: \", mean_absolute_error(y_train, y_pred_train), \" | R^2: \", r2_score(y_train, y_pred_train), \"\\n\")\n",
    "    print(\"Test: \\nRMSE: \", rmse_test, \" | MAE: \", mean_absolute_error(y_test, y_pred_test), \" | R^2: \", r2_score(y_test, y_pred_test), \"\\n\")\n"
   ]
  },
  {
   "cell_type": "markdown",
   "metadata": {},
   "source": [
    "### XGB model trained on newly created data set"
   ]
  },
  {
   "cell_type": "code",
   "execution_count": 16,
   "metadata": {
    "pycharm": {
     "name": "#%%\n"
    }
   },
   "outputs": [
    {
     "name": "stdout",
     "output_type": "stream",
     "text": [
      "XGB\n",
      "Training: \n",
      "RMSE:  2.0214149777806076  | MAE:  1.499952605147166  | R^2:  0.46410967040653717 \n",
      "\n",
      "Test: \n",
      "RMSE:  2.164473490869821  | MAE:  1.6024235179904278  | R^2:  0.37751378269478897 \n",
      "\n"
     ]
    }
   ],
   "source": [
    "categorical_transformer = Pipeline(\n",
    "    steps = [\n",
    "        (\"onehot\", OneHotEncoder(handle_unknown = \"ignore\"))\n",
    "    ]\n",
    ")\n",
    "\n",
    "numerical_transformer = Pipeline(\n",
    "    steps = [\n",
    "        (\"scaler\", StandardScaler())\n",
    "    ]\n",
    ")\n",
    "\n",
    "preprocessor = ColumnTransformer(\n",
    "    transformers = [\n",
    "        (\"cat\", categorical_transformer, cat_inx),\n",
    "        (\"num\", numerical_transformer, numerical_features)\n",
    "    ]\n",
    ")\n",
    "\n",
    "regressor = GradientBoostingRegressor(n_estimators = 76,\n",
    "                                    max_depth = 5,\n",
    "                                    min_samples_split = 3,\n",
    "                                    min_samples_leaf = 6,\n",
    "                                    random_state = 123)\n",
    "\n",
    "reg_xgb_2 = Pipeline(steps = [(\"preprocessor\", preprocessor),\n",
    "                      (\"regressor\", regressor)])\n",
    "\n",
    "reg_xgb_2.fit(x_train, y_train)\n",
    "\n",
    "\n",
    "y_pred_train = reg_xgb_2.predict(x_train)\n",
    "y_pred_test = reg_xgb_2.predict(x_test)\n",
    "print(\"XGB\")\n",
    "print_model_results(y_train, y_pred_train, y_test, y_pred_test)"
   ]
  },
  {
   "cell_type": "code",
   "execution_count": 17,
   "metadata": {
    "pycharm": {
     "name": "#%%\n"
    }
   },
   "outputs": [
    {
     "data": {
      "text/plain": "<Figure size 1440x1800 with 1 Axes>",
      "image/png": "[encoded data removed]"
     },
     "metadata": {
      "needs_background": "light"
     },
     "output_type": "display_data"
    }
   ],
   "source": [
    "def plot_model_permutation_feature_importance(model, X_test, Y_test, model_name: str):\n",
    "    result = permutation_importance(model, X_test, Y_test, n_repeats=10,\n",
    "                                random_state=42, n_jobs=2)\n",
    "    sorted_idx = result.importances_mean.argsort()\n",
    "    sorted_idx = sorted_idx[len(sorted_idx) - 6:]\n",
    "    fig, ax = plt.subplots(figsize=(20,25))\n",
    "    ax.boxplot(result.importances[sorted_idx].T,\n",
    "               vert=False, labels=X_test.columns[sorted_idx])\n",
    "    ax.set_title(f\"Permutation Importances (test set) for {model_name}\")\n",
    "    fig.tight_layout()\n",
    "    plt.savefig(model_name)\n",
    "\n",
    "plot_model_permutation_feature_importance(reg_xgb_2, x_test, y_test, \"XGB with shap weights\")"
   ]
  },
  {
   "cell_type": "markdown",
   "metadata": {},
   "source": [
    "### Ridge regression model on newly created dataset"
   ]
  },
  {
   "cell_type": "code",
   "execution_count": 18,
   "metadata": {
    "pycharm": {
     "name": "#%%\n"
    }
   },
   "outputs": [
    {
     "name": "stdout",
     "output_type": "stream",
     "text": [
      "Ridge\n",
      "Training: \n",
      "RMSE:  2.27228977432158  | MAE:  1.7188136184013174  | R^2:  0.32283829531254704 \n",
      "\n",
      "Test: \n",
      "RMSE:  2.2523752024218004  | MAE:  1.6952850671349031  | R^2:  0.3259274029288295 \n",
      "\n"
     ]
    }
   ],
   "source": [
    "# Linear model with the same  weights as in xgb model\n",
    "param = {'alpha': [1e-15, 1e-10, 1e-8, 1e-4, 1e-3, 1e-2, 1, 5, 10, 20, 30, 40, 50, 100, 150, 200]}\n",
    "\n",
    "x_train_2 = StandardScaler().fit_transform(x_train)\n",
    "x_test_2 = StandardScaler().fit_transform(x_test)\n",
    "\n",
    "ridge = Ridge()\n",
    "ridge_regressor = GridSearchCV(ridge, param, cv=5)\n",
    "ridge_regressor.fit(x_train_2, y_train)\n",
    "pred_rr_test = ridge_regressor.predict(x_test_2)\n",
    "pred_rr_train = ridge_regressor.predict(x_train_2)\n",
    "print(\"Ridge\")\n",
    "print_model_results(y_train, pred_rr_train, y_test, pred_rr_test)"
   ]
  },
  {
   "cell_type": "code",
   "execution_count": 20,
   "metadata": {
    "pycharm": {
     "name": "#%%\n"
    }
   },
   "outputs": [
    {
     "data": {
      "text/plain": "<Figure size 1296x360 with 1 Axes>",
      "image/png": "[encoded data removed]"
     },
     "metadata": {
      "needs_background": "light"
     },
     "output_type": "display_data"
    }
   ],
   "source": [
    "# Coefficients weight in rdige regression model\n",
    "rr_coef = [(coef, name) for name, coef in zip(x_train.columns.tolist() , ridge_regressor.best_estimator_.coef_) if abs(coef) > 0.15]\n",
    "rr_coef.sort()\n",
    "\n",
    "plt.figure(figsize=(18, 5))\n",
    "bars = plt.bar(range(len(rr_coef)), [val for val, coef in rr_coef], align='center', width=0.8)\n",
    "plt.xticks(range(len(rr_coef)), [coef for val, coef in rr_coef])\n",
    "for bar in bars:\n",
    "    yval = bar.get_height()\n",
    "    plt.text(bar.get_x(), max(0, yval) + .007, round(yval, 2))\n",
    "plt.savefig(\"06_rr_coef\")"
   ]
  }
 ],
 "metadata": {
  "kernelspec": {
   "display_name": "Python 3",
   "language": "python",
   "name": "python3"
  },
  "language_info": {
   "codemirror_mode": {
    "name": "ipython",
    "version": 3
   },
   "file_extension": ".py",
   "mimetype": "text/x-python",
   "name": "python",
   "nbconvert_exporter": "python",
   "pygments_lexer": "ipython3",
   "version": "3.8.2"
  }
 },
 "nbformat": 4,
 "nbformat_minor": 1
}