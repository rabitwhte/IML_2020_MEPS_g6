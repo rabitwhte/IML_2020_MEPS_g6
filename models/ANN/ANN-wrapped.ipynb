{
 "cells": [
  {
   "cell_type": "code",
   "execution_count": 32,
   "metadata": {},
   "outputs": [
    {
     "data": {
      "text/html": [
       "<style>.container { width:60% !important; }</style>"
      ],
      "text/plain": [
       "<IPython.core.display.HTML object>"
      ]
     },
     "metadata": {},
     "output_type": "display_data"
    }
   ],
   "source": [
    "import pandas as pd\n",
    "import numpy as np\n",
    "import os\n",
    "\n",
    "from sklearn.pipeline import Pipeline\n",
    "import shap\n",
    "import xgboost as xgb\n",
    "from sklearn.preprocessing import StandardScaler, OneHotEncoder\n",
    "from sklearn.linear_model import Ridge\n",
    "from sklearn.compose import ColumnTransformer\n",
    "from sklearn.linear_model import LinearRegression\n",
    "from sklearn.preprocessing import StandardScaler\n",
    "from sklearn.ensemble import RandomForestClassifier\n",
    "from sklearn.metrics import precision_score, recall_score, accuracy_score, roc_curve, \\\n",
    "roc_auc_score, precision_recall_curve, confusion_matrix, r2_score, mean_absolute_error, \\\n",
    "mean_squared_error\n",
    "import pandas_profiling as pp\n",
    "import matplotlib.pyplot as plt\n",
    "from sklearn.model_selection import train_test_split\n",
    "from IPython.core.display import display, HTML\n",
    "display(HTML(\"<style>.container { width:60% !important; }</style>\"))"
   ]
  },
  {
   "cell_type": "code",
   "execution_count": 33,
   "metadata": {},
   "outputs": [],
   "source": [
    "from keras.models import load_model\n",
    "import tensorflow as tf\n",
    "from keras.models import Sequential\n",
    "from keras.optimizers import RMSprop\n",
    "from keras.layers import Dense, Dropout, Embedding, Reshape\n",
    "from keras.backend import clear_session\n",
    "from keras.optimizers import Adam\n",
    "from keras import backend as K\n",
    "from keras.models import Model\n",
    "from keras.layers import Dense\n",
    "from keras.wrappers.scikit_learn import KerasRegressor"
   ]
  },
  {
   "cell_type": "markdown",
   "metadata": {},
   "source": [
    "Read the data"
   ]
  },
  {
   "cell_type": "code",
   "execution_count": 34,
   "metadata": {},
   "outputs": [],
   "source": [
    "df_train = pd.read_csv('../data/MEPS_data_preprocessed_train.csv')\n",
    "df_test = pd.read_csv('../data/MEPS_data_preprocessed_test.csv')"
   ]
  },
  {
   "cell_type": "code",
   "execution_count": 35,
   "metadata": {},
   "outputs": [],
   "source": [
    "df_all = pd.concat([df_train, df_test]).reset_index(drop=True)"
   ]
  },
  {
   "cell_type": "code",
   "execution_count": 36,
   "metadata": {},
   "outputs": [
    {
     "data": {
      "text/html": [
       "<div>\n",
       "<style scoped>\n",
       "    .dataframe tbody tr th:only-of-type {\n",
       "        vertical-align: middle;\n",
       "    }\n",
       "\n",
       "    .dataframe tbody tr th {\n",
       "        vertical-align: top;\n",
       "    }\n",
       "\n",
       "    .dataframe thead th {\n",
       "        text-align: right;\n",
       "    }\n",
       "</style>\n",
       "<table border=\"1\" class=\"dataframe\">\n",
       "  <thead>\n",
       "    <tr style=\"text-align: right;\">\n",
       "      <th></th>\n",
       "      <th>PANEL</th>\n",
       "      <th>REGION</th>\n",
       "      <th>AGE31X</th>\n",
       "      <th>GENDER</th>\n",
       "      <th>RACE3</th>\n",
       "      <th>MARRY31X</th>\n",
       "      <th>EDRECODE</th>\n",
       "      <th>FTSTU31X</th>\n",
       "      <th>ACTDTY31</th>\n",
       "      <th>HONRDC31</th>\n",
       "      <th>...</th>\n",
       "      <th>PCS42</th>\n",
       "      <th>MCS42</th>\n",
       "      <th>K6SUM42</th>\n",
       "      <th>PHQ242</th>\n",
       "      <th>EMPST31</th>\n",
       "      <th>POVCAT15</th>\n",
       "      <th>INSCOV15</th>\n",
       "      <th>INCOME_M</th>\n",
       "      <th>HEALTHEXP</th>\n",
       "      <th>PERSONWT</th>\n",
       "    </tr>\n",
       "  </thead>\n",
       "  <tbody>\n",
       "    <tr>\n",
       "      <th>0</th>\n",
       "      <td>20</td>\n",
       "      <td>1</td>\n",
       "      <td>49</td>\n",
       "      <td>1.0</td>\n",
       "      <td>0.0</td>\n",
       "      <td>1</td>\n",
       "      <td>16</td>\n",
       "      <td>-1</td>\n",
       "      <td>2</td>\n",
       "      <td>2</td>\n",
       "      <td>...</td>\n",
       "      <td>51.29</td>\n",
       "      <td>59.04</td>\n",
       "      <td>1</td>\n",
       "      <td>0</td>\n",
       "      <td>1</td>\n",
       "      <td>3</td>\n",
       "      <td>1</td>\n",
       "      <td>8400.0</td>\n",
       "      <td>1462</td>\n",
       "      <td>6156.790949</td>\n",
       "    </tr>\n",
       "    <tr>\n",
       "      <th>1</th>\n",
       "      <td>19</td>\n",
       "      <td>3</td>\n",
       "      <td>43</td>\n",
       "      <td>1.0</td>\n",
       "      <td>0.0</td>\n",
       "      <td>4</td>\n",
       "      <td>14</td>\n",
       "      <td>-1</td>\n",
       "      <td>2</td>\n",
       "      <td>2</td>\n",
       "      <td>...</td>\n",
       "      <td>19.36</td>\n",
       "      <td>31.90</td>\n",
       "      <td>14</td>\n",
       "      <td>2</td>\n",
       "      <td>4</td>\n",
       "      <td>1</td>\n",
       "      <td>2</td>\n",
       "      <td>0.0</td>\n",
       "      <td>14121</td>\n",
       "      <td>23114.487222</td>\n",
       "    </tr>\n",
       "    <tr>\n",
       "      <th>2</th>\n",
       "      <td>19</td>\n",
       "      <td>1</td>\n",
       "      <td>75</td>\n",
       "      <td>1.0</td>\n",
       "      <td>0.0</td>\n",
       "      <td>1</td>\n",
       "      <td>13</td>\n",
       "      <td>-1</td>\n",
       "      <td>4</td>\n",
       "      <td>2</td>\n",
       "      <td>...</td>\n",
       "      <td>25.23</td>\n",
       "      <td>45.46</td>\n",
       "      <td>6</td>\n",
       "      <td>2</td>\n",
       "      <td>4</td>\n",
       "      <td>4</td>\n",
       "      <td>1</td>\n",
       "      <td>22619.0</td>\n",
       "      <td>58507</td>\n",
       "      <td>17966.491961</td>\n",
       "    </tr>\n",
       "    <tr>\n",
       "      <th>3</th>\n",
       "      <td>20</td>\n",
       "      <td>1</td>\n",
       "      <td>26</td>\n",
       "      <td>0.0</td>\n",
       "      <td>1.0</td>\n",
       "      <td>5</td>\n",
       "      <td>13</td>\n",
       "      <td>-1</td>\n",
       "      <td>2</td>\n",
       "      <td>2</td>\n",
       "      <td>...</td>\n",
       "      <td>49.13</td>\n",
       "      <td>63.97</td>\n",
       "      <td>4</td>\n",
       "      <td>0</td>\n",
       "      <td>1</td>\n",
       "      <td>3</td>\n",
       "      <td>1</td>\n",
       "      <td>20000.0</td>\n",
       "      <td>0</td>\n",
       "      <td>4175.967957</td>\n",
       "    </tr>\n",
       "    <tr>\n",
       "      <th>4</th>\n",
       "      <td>20</td>\n",
       "      <td>3</td>\n",
       "      <td>43</td>\n",
       "      <td>1.0</td>\n",
       "      <td>0.0</td>\n",
       "      <td>9</td>\n",
       "      <td>14</td>\n",
       "      <td>-1</td>\n",
       "      <td>2</td>\n",
       "      <td>2</td>\n",
       "      <td>...</td>\n",
       "      <td>-1.00</td>\n",
       "      <td>-1.00</td>\n",
       "      <td>-1</td>\n",
       "      <td>-1</td>\n",
       "      <td>1</td>\n",
       "      <td>4</td>\n",
       "      <td>1</td>\n",
       "      <td>58000.0</td>\n",
       "      <td>53936</td>\n",
       "      <td>8877.535274</td>\n",
       "    </tr>\n",
       "    <tr>\n",
       "      <th>...</th>\n",
       "      <td>...</td>\n",
       "      <td>...</td>\n",
       "      <td>...</td>\n",
       "      <td>...</td>\n",
       "      <td>...</td>\n",
       "      <td>...</td>\n",
       "      <td>...</td>\n",
       "      <td>...</td>\n",
       "      <td>...</td>\n",
       "      <td>...</td>\n",
       "      <td>...</td>\n",
       "      <td>...</td>\n",
       "      <td>...</td>\n",
       "      <td>...</td>\n",
       "      <td>...</td>\n",
       "      <td>...</td>\n",
       "      <td>...</td>\n",
       "      <td>...</td>\n",
       "      <td>...</td>\n",
       "      <td>...</td>\n",
       "      <td>...</td>\n",
       "    </tr>\n",
       "    <tr>\n",
       "      <th>18345</th>\n",
       "      <td>19</td>\n",
       "      <td>1</td>\n",
       "      <td>76</td>\n",
       "      <td>1.0</td>\n",
       "      <td>0.0</td>\n",
       "      <td>2</td>\n",
       "      <td>14</td>\n",
       "      <td>-1</td>\n",
       "      <td>4</td>\n",
       "      <td>2</td>\n",
       "      <td>...</td>\n",
       "      <td>53.75</td>\n",
       "      <td>59.70</td>\n",
       "      <td>0</td>\n",
       "      <td>0</td>\n",
       "      <td>4</td>\n",
       "      <td>5</td>\n",
       "      <td>1</td>\n",
       "      <td>53703.0</td>\n",
       "      <td>12112</td>\n",
       "      <td>11022.754377</td>\n",
       "    </tr>\n",
       "    <tr>\n",
       "      <th>18346</th>\n",
       "      <td>19</td>\n",
       "      <td>4</td>\n",
       "      <td>34</td>\n",
       "      <td>1.0</td>\n",
       "      <td>0.0</td>\n",
       "      <td>1</td>\n",
       "      <td>16</td>\n",
       "      <td>-1</td>\n",
       "      <td>2</td>\n",
       "      <td>2</td>\n",
       "      <td>...</td>\n",
       "      <td>58.45</td>\n",
       "      <td>41.13</td>\n",
       "      <td>6</td>\n",
       "      <td>2</td>\n",
       "      <td>1</td>\n",
       "      <td>5</td>\n",
       "      <td>1</td>\n",
       "      <td>56005.0</td>\n",
       "      <td>2261</td>\n",
       "      <td>22967.944645</td>\n",
       "    </tr>\n",
       "    <tr>\n",
       "      <th>18347</th>\n",
       "      <td>19</td>\n",
       "      <td>2</td>\n",
       "      <td>36</td>\n",
       "      <td>0.0</td>\n",
       "      <td>1.0</td>\n",
       "      <td>5</td>\n",
       "      <td>14</td>\n",
       "      <td>-1</td>\n",
       "      <td>2</td>\n",
       "      <td>2</td>\n",
       "      <td>...</td>\n",
       "      <td>49.93</td>\n",
       "      <td>55.96</td>\n",
       "      <td>1</td>\n",
       "      <td>1</td>\n",
       "      <td>1</td>\n",
       "      <td>5</td>\n",
       "      <td>1</td>\n",
       "      <td>129000.0</td>\n",
       "      <td>1378</td>\n",
       "      <td>11997.302311</td>\n",
       "    </tr>\n",
       "    <tr>\n",
       "      <th>18348</th>\n",
       "      <td>20</td>\n",
       "      <td>2</td>\n",
       "      <td>4</td>\n",
       "      <td>1.0</td>\n",
       "      <td>0.0</td>\n",
       "      <td>6</td>\n",
       "      <td>-1</td>\n",
       "      <td>-1</td>\n",
       "      <td>3</td>\n",
       "      <td>3</td>\n",
       "      <td>...</td>\n",
       "      <td>-1.00</td>\n",
       "      <td>-1.00</td>\n",
       "      <td>-1</td>\n",
       "      <td>-1</td>\n",
       "      <td>-1</td>\n",
       "      <td>4</td>\n",
       "      <td>2</td>\n",
       "      <td>0.0</td>\n",
       "      <td>501</td>\n",
       "      <td>11756.273592</td>\n",
       "    </tr>\n",
       "    <tr>\n",
       "      <th>18349</th>\n",
       "      <td>20</td>\n",
       "      <td>3</td>\n",
       "      <td>84</td>\n",
       "      <td>1.0</td>\n",
       "      <td>0.0</td>\n",
       "      <td>2</td>\n",
       "      <td>13</td>\n",
       "      <td>-1</td>\n",
       "      <td>4</td>\n",
       "      <td>2</td>\n",
       "      <td>...</td>\n",
       "      <td>37.00</td>\n",
       "      <td>28.24</td>\n",
       "      <td>22</td>\n",
       "      <td>6</td>\n",
       "      <td>4</td>\n",
       "      <td>2</td>\n",
       "      <td>2</td>\n",
       "      <td>11724.0</td>\n",
       "      <td>14052</td>\n",
       "      <td>18650.699135</td>\n",
       "    </tr>\n",
       "  </tbody>\n",
       "</table>\n",
       "<p>18350 rows × 46 columns</p>\n",
       "</div>"
      ],
      "text/plain": [
       "       PANEL  REGION  AGE31X  GENDER  RACE3  MARRY31X  EDRECODE  FTSTU31X  \\\n",
       "0         20       1      49     1.0    0.0         1        16        -1   \n",
       "1         19       3      43     1.0    0.0         4        14        -1   \n",
       "2         19       1      75     1.0    0.0         1        13        -1   \n",
       "3         20       1      26     0.0    1.0         5        13        -1   \n",
       "4         20       3      43     1.0    0.0         9        14        -1   \n",
       "...      ...     ...     ...     ...    ...       ...       ...       ...   \n",
       "18345     19       1      76     1.0    0.0         2        14        -1   \n",
       "18346     19       4      34     1.0    0.0         1        16        -1   \n",
       "18347     19       2      36     0.0    1.0         5        14        -1   \n",
       "18348     20       2       4     1.0    0.0         6        -1        -1   \n",
       "18349     20       3      84     1.0    0.0         2        13        -1   \n",
       "\n",
       "       ACTDTY31  HONRDC31  ...  PCS42  MCS42  K6SUM42  PHQ242  EMPST31  \\\n",
       "0             2         2  ...  51.29  59.04        1       0        1   \n",
       "1             2         2  ...  19.36  31.90       14       2        4   \n",
       "2             4         2  ...  25.23  45.46        6       2        4   \n",
       "3             2         2  ...  49.13  63.97        4       0        1   \n",
       "4             2         2  ...  -1.00  -1.00       -1      -1        1   \n",
       "...         ...       ...  ...    ...    ...      ...     ...      ...   \n",
       "18345         4         2  ...  53.75  59.70        0       0        4   \n",
       "18346         2         2  ...  58.45  41.13        6       2        1   \n",
       "18347         2         2  ...  49.93  55.96        1       1        1   \n",
       "18348         3         3  ...  -1.00  -1.00       -1      -1       -1   \n",
       "18349         4         2  ...  37.00  28.24       22       6        4   \n",
       "\n",
       "       POVCAT15  INSCOV15  INCOME_M  HEALTHEXP      PERSONWT  \n",
       "0             3         1    8400.0       1462   6156.790949  \n",
       "1             1         2       0.0      14121  23114.487222  \n",
       "2             4         1   22619.0      58507  17966.491961  \n",
       "3             3         1   20000.0          0   4175.967957  \n",
       "4             4         1   58000.0      53936   8877.535274  \n",
       "...         ...       ...       ...        ...           ...  \n",
       "18345         5         1   53703.0      12112  11022.754377  \n",
       "18346         5         1   56005.0       2261  22967.944645  \n",
       "18347         5         1  129000.0       1378  11997.302311  \n",
       "18348         4         2       0.0        501  11756.273592  \n",
       "18349         2         2   11724.0      14052  18650.699135  \n",
       "\n",
       "[18350 rows x 46 columns]"
      ]
     },
     "execution_count": 36,
     "metadata": {},
     "output_type": "execute_result"
    }
   ],
   "source": [
    "df_all"
   ]
  },
  {
   "cell_type": "code",
   "execution_count": 37,
   "metadata": {},
   "outputs": [],
   "source": [
    "df_raw = df_all.copy()"
   ]
  },
  {
   "cell_type": "markdown",
   "metadata": {},
   "source": [
    "Let's have a closer look at the predicted variable (HEALTHEXP)"
   ]
  },
  {
   "cell_type": "code",
   "execution_count": 38,
   "metadata": {},
   "outputs": [
    {
     "data": {
      "text/plain": [
       "<matplotlib.axes._subplots.AxesSubplot at 0x1b9a780ef60>"
      ]
     },
     "execution_count": 38,
     "metadata": {},
     "output_type": "execute_result"
    },
    {
     "data": {
      "image/png": "[encoded data removed]",
      "text/plain": [
       "<Figure size 576x396 with 1 Axes>"
      ]
     },
     "metadata": {},
     "output_type": "display_data"
    }
   ],
   "source": [
    "df_all['HEALTHEXP'].hist(bins=100)"
   ]
  },
  {
   "cell_type": "code",
   "execution_count": 39,
   "metadata": {},
   "outputs": [
    {
     "data": {
      "text/plain": [
       "count     18350.000000\n",
       "mean       5184.511608\n",
       "std       15126.748532\n",
       "min           0.000000\n",
       "0%            0.000000\n",
       "5%            0.000000\n",
       "10%           0.000000\n",
       "15%          20.350000\n",
       "20%         114.000000\n",
       "25%         198.000000\n",
       "30%         302.000000\n",
       "35%         431.000000\n",
       "40%         585.000000\n",
       "45%         779.000000\n",
       "50%        1034.000000\n",
       "55%        1339.000000\n",
       "60%        1784.800000\n",
       "65%        2343.850000\n",
       "70%        3099.000000\n",
       "75%        4219.500000\n",
       "80%        5619.800000\n",
       "85%        8137.000000\n",
       "90%       12591.100000\n",
       "95%       23417.000000\n",
       "100%     659952.000000\n",
       "max      659952.000000\n",
       "Name: HEALTHEXP, dtype: float64"
      ]
     },
     "execution_count": 39,
     "metadata": {},
     "output_type": "execute_result"
    }
   ],
   "source": [
    "df_all['HEALTHEXP'].describe(percentiles=np.linspace(0,1,21))"
   ]
  },
  {
   "cell_type": "code",
   "execution_count": 40,
   "metadata": {},
   "outputs": [],
   "source": [
    "health_exp = df_all['HEALTHEXP'].values"
   ]
  },
  {
   "cell_type": "code",
   "execution_count": 41,
   "metadata": {},
   "outputs": [
    {
     "data": {
      "image/png": "[encoded data removed]",
      "text/plain": [
       "<Figure size 576x396 with 1 Axes>"
      ]
     },
     "metadata": {},
     "output_type": "display_data"
    }
   ],
   "source": [
    "plt.plot(np.linspace(0,100,21), np.percentile(health_exp, np.linspace(0,100,21)),'o');\n",
    "plt.axhline(y=np.mean(health_exp), color='red', label = 'mean')\n",
    "plt.xlabel('Percentile');\n",
    "plt.ylabel('Healthexp');\n",
    "plt.legend();"
   ]
  },
  {
   "cell_type": "code",
   "execution_count": 42,
   "metadata": {},
   "outputs": [
    {
     "data": {
      "image/png": "[encoded data removed]",
      "text/plain": [
       "<Figure size 576x396 with 1 Axes>"
      ]
     },
     "metadata": {},
     "output_type": "display_data"
    }
   ],
   "source": [
    "plt.plot(np.linspace(0,100,21), np.percentile(health_exp, np.linspace(0,100,21)),'o');\n",
    "plt.axhline(y=np.mean(health_exp), color='red', label = 'mean')\n",
    "plt.xlabel('Percentile');\n",
    "plt.ylabel('Healthexp');\n",
    "plt.yscale('log')\n",
    "plt.legend();"
   ]
  },
  {
   "cell_type": "code",
   "execution_count": 43,
   "metadata": {},
   "outputs": [
    {
     "data": {
      "image/png": "[encoded data removed]",
      "text/plain": [
       "<Figure size 432x432 with 1 Axes>"
      ]
     },
     "metadata": {},
     "output_type": "display_data"
    }
   ],
   "source": [
    "plt.figure(figsize=(6,6))\n",
    "df_all[['HEALTHEXP']].boxplot();"
   ]
  },
  {
   "cell_type": "code",
   "execution_count": 44,
   "metadata": {},
   "outputs": [
    {
     "data": {
      "image/png": "[encoded data removed]",
      "text/plain": [
       "<Figure size 432x432 with 1 Axes>"
      ]
     },
     "metadata": {},
     "output_type": "display_data"
    }
   ],
   "source": [
    "plt.figure(figsize=(6,6))\n",
    "plt.boxplot(df_all['HEALTHEXP']);\n",
    "plt.title('Health Exp')\n",
    "plt.yscale('log')"
   ]
  },
  {
   "cell_type": "markdown",
   "metadata": {},
   "source": [
    "Notes on predicted variable:\n",
    "* 14.3 % of observations are equal to 0.\n",
    "* The distribution is positevely skewed with many high-value outliers (very high treatment costs).\n",
    "* About 80 % of observations are below the mean. Std is three times higher than  the mean."
   ]
  },
  {
   "cell_type": "code",
   "execution_count": 45,
   "metadata": {},
   "outputs": [
    {
     "data": {
      "text/plain": [
       "<matplotlib.axes._subplots.AxesSubplot at 0x1b9a6c1f588>"
      ]
     },
     "execution_count": 45,
     "metadata": {},
     "output_type": "execute_result"
    },
    {
     "data": {
      "image/png": "[encoded data removed]",
      "text/plain": [
       "<Figure size 576x396 with 1 Axes>"
      ]
     },
     "metadata": {},
     "output_type": "display_data"
    }
   ],
   "source": [
    "df_all['HEALTHEXP'].hist(bins=20)"
   ]
  },
  {
   "cell_type": "markdown",
   "metadata": {},
   "source": [
    "Log_3 transformation of health_exp"
   ]
  },
  {
   "cell_type": "code",
   "execution_count": 46,
   "metadata": {},
   "outputs": [],
   "source": [
    "all_dfs = [df_all, df_train, df_test]"
   ]
  },
  {
   "cell_type": "code",
   "execution_count": 47,
   "metadata": {},
   "outputs": [
    {
     "name": "stderr",
     "output_type": "stream",
     "text": [
      "divide by zero encountered in log\n"
     ]
    }
   ],
   "source": [
    "for df in all_dfs:\n",
    "    log = np.log(df['HEALTHEXP'])\n",
    "    log[log<0] = 0\n",
    "    log = log/np.log(3)\n",
    "    df['HEALTHEXP'] = log"
   ]
  },
  {
   "cell_type": "code",
   "execution_count": 48,
   "metadata": {},
   "outputs": [
    {
     "data": {
      "text/plain": [
       "<matplotlib.axes._subplots.AxesSubplot at 0x1b9f85842b0>"
      ]
     },
     "execution_count": 48,
     "metadata": {},
     "output_type": "execute_result"
    },
    {
     "data": {
      "image/png": "[encoded data removed]",
      "text/plain": [
       "<Figure size 576x396 with 1 Axes>"
      ]
     },
     "metadata": {},
     "output_type": "display_data"
    }
   ],
   "source": [
    "df_all['HEALTHEXP'].hist(bins=20)"
   ]
  },
  {
   "cell_type": "markdown",
   "metadata": {},
   "source": [
    "Prepare features"
   ]
  },
  {
   "cell_type": "code",
   "execution_count": 49,
   "metadata": {},
   "outputs": [],
   "source": [
    "# Drop panel number (not meant to be predictive) and sample weights\n",
    "for df in all_dfs:\n",
    "    df.drop(columns = ['PANEL', 'PERSONWT'], inplace=True)\n"
   ]
  },
  {
   "cell_type": "code",
   "execution_count": 50,
   "metadata": {},
   "outputs": [
    {
     "data": {
      "text/plain": [
       "Index(['REGION', 'AGE31X', 'GENDER', 'RACE3', 'MARRY31X', 'EDRECODE',\n",
       "       'FTSTU31X', 'ACTDTY31', 'HONRDC31', 'RTHLTH31', 'MNHLTH31', 'HIBPDX',\n",
       "       'CHDDX', 'ANGIDX', 'MIDX', 'OHRTDX', 'STRKDX', 'EMPHDX', 'CHBRON31',\n",
       "       'CHOLDX', 'CANCERDX', 'DIABDX', 'JTPAIN31', 'ARTHDX', 'ARTHTYPE',\n",
       "       'ASTHDX', 'ADHDADDX', 'PREGNT31', 'WLKLIM31', 'ACTLIM31', 'SOCLIM31',\n",
       "       'COGLIM31', 'DFHEAR42', 'DFSEE42', 'ADSMOK42', 'PCS42', 'MCS42',\n",
       "       'K6SUM42', 'PHQ242', 'EMPST31', 'POVCAT15', 'INSCOV15', 'INCOME_M',\n",
       "       'HEALTHEXP'],\n",
       "      dtype='object')"
      ]
     },
     "execution_count": 50,
     "metadata": {},
     "output_type": "execute_result"
    }
   ],
   "source": [
    "df_all.columns"
   ]
  },
  {
   "cell_type": "code",
   "execution_count": 51,
   "metadata": {},
   "outputs": [],
   "source": [
    "y = df_all.pop('HEALTHEXP')\n",
    "y_train = df_train.pop('HEALTHEXP')\n",
    "y_test = df_test.pop('HEALTHEXP')"
   ]
  },
  {
   "cell_type": "markdown",
   "metadata": {},
   "source": [
    "One-hot encoding for all the categorical features "
   ]
  },
  {
   "cell_type": "code",
   "execution_count": 52,
   "metadata": {},
   "outputs": [],
   "source": [
    "categorical_features = ['REGION','MARRY31X','EDRECODE','FTSTU31X','ACTDTY31','HONRDC31',\n",
    "            'RTHLTH31','MNHLTH31','HIBPDX','CHDDX','ANGIDX','MIDX','OHRTDX','STRKDX',\n",
    "            'EMPHDX','CHBRON31','CHOLDX','CANCERDX','DIABDX','JTPAIN31','ARTHDX',\n",
    "            'ARTHTYPE','ASTHDX','ADHDADDX','PREGNT31','WLKLIM31','ACTLIM31','SOCLIM31',\n",
    "            'COGLIM31','DFHEAR42','DFSEE42','ADSMOK42','PHQ242','EMPST31','POVCAT15','INSCOV15','RACE3','GENDER']\n",
    "\n",
    "numerical_features= [feat for feat in df.columns if feat not in categorical_features]"
   ]
  },
  {
   "cell_type": "code",
   "execution_count": null,
   "metadata": {},
   "outputs": [],
   "source": []
  },
  {
   "cell_type": "code",
   "execution_count": 53,
   "metadata": {},
   "outputs": [],
   "source": [
    "numerical_transformer = Pipeline(\n",
    "    steps=[\n",
    "        ('scaler', StandardScaler())\n",
    "    ]\n",
    ")\n",
    "\n",
    "categorical_transformer = Pipeline(\n",
    "    steps=[\n",
    "        ('onehot', OneHotEncoder(handle_unknown='ignore'))\n",
    "    ]\n",
    ")\n",
    "\n",
    "preprocessor = ColumnTransformer(\n",
    "    transformers=[\n",
    "        ('num', numerical_transformer, numerical_features),\n",
    "        ('cat', categorical_transformer, categorical_features)\n",
    "    ]\n",
    ")\n"
   ]
  },
  {
   "cell_type": "code",
   "execution_count": 54,
   "metadata": {},
   "outputs": [],
   "source": [
    "X_train = preprocessor.fit_transform(df_train)\n",
    "X_test = preprocessor.transform(df_test)"
   ]
  },
  {
   "cell_type": "code",
   "execution_count": 55,
   "metadata": {},
   "outputs": [],
   "source": [
    "def create_model(optimizer=Adam(4e-5)):\n",
    "    model = Sequential([\n",
    "        Dense(128, activation=tf.nn.relu, input_shape=[np.shape(X_train)[1]]),\n",
    "        Dense(128, activation='relu'),\n",
    "        Dense(64, activation='relu'),\n",
    "        Dense(32, activation='relu'),\n",
    "        Dense(1)\n",
    "      ])\n",
    "\n",
    "    model.compile(loss='mse',\n",
    "                optimizer = optimizer)\n",
    "\n",
    "    return model"
   ]
  },
  {
   "cell_type": "code",
   "execution_count": 56,
   "metadata": {},
   "outputs": [],
   "source": [
    "model = KerasRegressor(build_fn=create_model, epochs=1000, batch_size=10_000, verbose=0)"
   ]
  },
  {
   "cell_type": "code",
   "execution_count": 57,
   "metadata": {},
   "outputs": [],
   "source": [
    "regressor = model\n",
    "mdl = Pipeline(steps=[('preprocessor', preprocessor),\n",
    "                      ('regressor', regressor)])"
   ]
  },
  {
   "cell_type": "code",
   "execution_count": 58,
   "metadata": {
    "scrolled": true
   },
   "outputs": [
    {
     "data": {
      "text/plain": [
       "Pipeline(memory=None,\n",
       "         steps=[('preprocessor',\n",
       "                 ColumnTransformer(n_jobs=None, remainder='drop',\n",
       "                                   sparse_threshold=0.3,\n",
       "                                   transformer_weights=None,\n",
       "                                   transformers=[('num',\n",
       "                                                  Pipeline(memory=None,\n",
       "                                                           steps=[('scaler',\n",
       "                                                                   StandardScaler(copy=True,\n",
       "                                                                                  with_mean=True,\n",
       "                                                                                  with_std=True))],\n",
       "                                                           verbose=False),\n",
       "                                                  ['AGE31X', 'PCS42', 'MCS42',\n",
       "                                                   'K6SUM42', 'INCOME_M']),\n",
       "                                                 ('cat',\n",
       "                                                  Pipeline(memory=None,\n",
       "                                                           steps...\n",
       "                                                   'RTHLTH31', 'MNHLTH31',\n",
       "                                                   'HIBPDX', 'CHDDX', 'ANGIDX',\n",
       "                                                   'MIDX', 'OHRTDX', 'STRKDX',\n",
       "                                                   'EMPHDX', 'CHBRON31',\n",
       "                                                   'CHOLDX', 'CANCERDX',\n",
       "                                                   'DIABDX', 'JTPAIN31',\n",
       "                                                   'ARTHDX', 'ARTHTYPE',\n",
       "                                                   'ASTHDX', 'ADHDADDX',\n",
       "                                                   'PREGNT31', 'WLKLIM31',\n",
       "                                                   'ACTLIM31', 'SOCLIM31',\n",
       "                                                   'COGLIM31', 'DFHEAR42', ...])],\n",
       "                                   verbose=False)),\n",
       "                ('regressor',\n",
       "                 <keras.wrappers.scikit_learn.KerasRegressor object at 0x000001B9A6D23198>)],\n",
       "         verbose=False)"
      ]
     },
     "execution_count": 58,
     "metadata": {},
     "output_type": "execute_result"
    }
   ],
   "source": [
    "mdl.fit(df_train,y_train)"
   ]
  },
  {
   "cell_type": "code",
   "execution_count": 59,
   "metadata": {},
   "outputs": [
    {
     "name": "stdout",
     "output_type": "stream",
     "text": [
      "Train:\n",
      "RMSE: 2.1403718863817875, MAE: 1.5910415594440428, r2: 0.399181305529149 \n"
     ]
    }
   ],
   "source": [
    "y_pred = mdl.predict(df_train)\n",
    "r2 = r2_score(y_train, y_pred)\n",
    "mae = mean_absolute_error(y_train, y_pred)\n",
    "rmse = np.sqrt(mean_squared_error(y_train, y_pred))\n",
    "print('Train:')\n",
    "print('RMSE: {}, MAE: {}, r2: {} '.format(rmse, mae, r2))"
   ]
  },
  {
   "cell_type": "code",
   "execution_count": 60,
   "metadata": {},
   "outputs": [
    {
     "name": "stdout",
     "output_type": "stream",
     "text": [
      "Test:\n",
      "RMSE: 2.173967132194529, MAE: 1.6110837494756978, r2: 0.372041208284703 \n"
     ]
    }
   ],
   "source": [
    "y_pred = mdl.predict(df_test)\n",
    "r2 = r2_score(y_test, y_pred)\n",
    "mae = mean_absolute_error(y_test, y_pred)\n",
    "rmse = np.sqrt(mean_squared_error(y_test, y_pred))\n",
    "print('Test:')\n",
    "print('RMSE: {}, MAE: {}, r2: {} '.format(rmse, mae, r2))"
   ]
  },
  {
   "cell_type": "code",
   "execution_count": 61,
   "metadata": {},
   "outputs": [],
   "source": [
    "#save model\n",
    "import joblib"
   ]
  },
  {
   "cell_type": "code",
   "execution_count": 62,
   "metadata": {},
   "outputs": [
    {
     "data": {
      "text/html": [
       "['sklearn_pipeline.pkl']"
      ],
      "text/plain": [
       "['sklearn_pipeline.pkl']"
      ]
     },
     "execution_count": 62,
     "metadata": {},
     "output_type": "execute_result"
    }
   ],
   "source": [
    "# Save the Keras model first:\n",
    "mdl.named_steps['regressor'].model.save('keras_model.h5')\n",
    "\n",
    "# This hack allows us to save the sklearn pipeline:\n",
    "mdl.named_steps['regressor'].model = None\n",
    "\n",
    "# Finally, save the pipeline:\n",
    "joblib.dump(mdl, 'sklearn_pipeline.pkl')\n",
    "\n"
   ]
  },
  {
   "cell_type": "code",
   "execution_count": 63,
   "metadata": {},
   "outputs": [],
   "source": [
    "# Load the pipeline first:\n",
    "loaded_model = joblib.load('sklearn_pipeline.pkl')\n"
   ]
  },
  {
   "cell_type": "code",
   "execution_count": 64,
   "metadata": {},
   "outputs": [],
   "source": [
    "# Then, load the Keras model:\n",
    "loaded_model.named_steps['regressor'].model = load_model('keras_model.h5')"
   ]
  },
  {
   "cell_type": "code",
   "execution_count": 65,
   "metadata": {},
   "outputs": [
    {
     "name": "stdout",
     "output_type": "stream",
     "text": [
      "Test:\n",
      "RMSE: 2.173967132194529, MAE: 1.6110837494756978, r2: 0.372041208284703 \n"
     ]
    }
   ],
   "source": [
    "y_pred = loaded_model.predict(df_test)\n",
    "r2 = r2_score(y_test, y_pred)\n",
    "mae = mean_absolute_error(y_test, y_pred)\n",
    "rmse = np.sqrt(mean_squared_error(y_test, y_pred))\n",
    "print('Test:')\n",
    "print('RMSE: {}, MAE: {}, r2: {} '.format(rmse, mae, r2))"
   ]
  },
  {
   "cell_type": "code",
   "execution_count": 66,
   "metadata": {},
   "outputs": [],
   "source": [
    "# check explainer"
   ]
  },
  {
   "cell_type": "code",
   "execution_count": 67,
   "metadata": {},
   "outputs": [
    {
     "name": "stdout",
     "output_type": "stream",
     "text": [
      "Preparation of a new explainer is initiated\n",
      "\n",
      "  -> label             : ANN\n",
      "  -> data              : 18350 rows 43 cols\n",
      "  -> target variable   : Argument 'y' was a pandas.Series. Converted to a numpy.ndarray.\n",
      "  -> target variable   : 18350 values\n",
      "  -> predict function  : <function yhat_default at 0x000001B9B1E7E730> will be used\n",
      "  -> predicted values  : min = 0.101311, mean = 5.7149897, max = 10.949827\n",
      "  -> residual function : difference between y and yhat\n",
      "  -> residuals         : min = -8.318002700805664, mean = 0.0004540657200803916, max = 7.7228482899265245\n",
      "  -> model_info        : package sklearn\n",
      "\n",
      "A new explainer has been created!\n"
     ]
    }
   ],
   "source": [
    "import dalex as dx \n",
    "exp = dx.Explainer(loaded_model, df_all, y, label = \"ANN\")"
   ]
  },
  {
   "cell_type": "code",
   "execution_count": null,
   "metadata": {},
   "outputs": [],
   "source": []
  }
 ],
 "metadata": {
  "hide_input": false,
  "kernelspec": {
   "display_name": "Python 3",
   "language": "python",
   "name": "python3"
  },
  "language_info": {
   "codemirror_mode": {
    "name": "ipython",
    "version": 3
   },
   "file_extension": ".py",
   "mimetype": "text/x-python",
   "name": "python",
   "nbconvert_exporter": "python",
   "pygments_lexer": "ipython3",
   "version": "3.6.5rc1"
  },
  "toc": {
   "base_numbering": 1,
   "nav_menu": {},
   "number_sections": true,
   "sideBar": true,
   "skip_h1_title": false,
   "title_cell": "Table of Contents",
   "title_sidebar": "Contents",
   "toc_cell": false,
   "toc_position": {},
   "toc_section_display": true,
   "toc_window_display": false
  }
 },
 "nbformat": 4,
 "nbformat_minor": 2
}
