{
 "cells": [
  {
   "cell_type": "code",
   "execution_count": null,
   "metadata": {},
   "outputs": [],
   "source": [
    "import pandas as pd\n",
    "import numpy as np\n",
    "import pickle"
   ]
  },
  {
   "cell_type": "code",
   "execution_count": null,
   "metadata": {},
   "outputs": [],
   "source": [
    "def transform_target_log3(data, target_name):\n",
    "    val = data[target_name].values \n",
    "    return np.array([0 if v == 0 else np.log(v) / np.log(3) for v in val])\n",
    "\n",
    "\n",
    "def read_x_y(path, target_name):\n",
    "    data = pd.read_csv(path)\n",
    "    data[target_name] = transform_target_log3(data, target_name)\n",
    "    X = data.drop(columns = target_name)\n",
    "    y = data[target_name]\n",
    "    return X, y"
   ]
  },
  {
   "cell_type": "code",
   "execution_count": null,
   "metadata": {},
   "outputs": [],
   "source": [
    "pickle_in = open(\"MEPS_xgb_model_final.pickle\", \"rb\")\n",
    "reg_xgb = pickle.load(pickle_in)"
   ]
  },
  {
   "cell_type": "code",
   "execution_count": null,
   "metadata": {},
   "outputs": [],
   "source": [
    "path = \".\\..\\dane\\MEPS_data_preprocessed\"\n",
    "X_train, y_train = read_x_y(path + \"_train.csv\", \"HEALTHEXP\")\n",
    "X_test, y_test = read_x_y(path + \"_test.csv\", \"HEALTHEXP\")"
   ]
  },
  {
   "cell_type": "code",
   "execution_count": null,
   "metadata": {},
   "outputs": [],
   "source": [
    "y_pred_train = reg_xgb.predict(X_train)\n",
    "y_pred_test = reg_xgb.predict(X_test)"
   ]
  },
  {
   "cell_type": "code",
   "execution_count": null,
   "metadata": {},
   "outputs": [],
   "source": []
  }
 ],
 "metadata": {
  "kernelspec": {
   "display_name": "Python 3",
   "language": "python",
   "name": "python3"
  },
  "language_info": {
   "codemirror_mode": {
    "name": "ipython",
    "version": 3
   },
   "file_extension": ".py",
   "mimetype": "text/x-python",
   "name": "python",
   "nbconvert_exporter": "python",
   "pygments_lexer": "ipython3",
   "version": "3.7.4"
  }
 },
 "nbformat": 4,
 "nbformat_minor": 2
}
