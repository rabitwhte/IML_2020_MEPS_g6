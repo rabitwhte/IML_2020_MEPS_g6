{
 "cells": [
  {
   "cell_type": "markdown",
   "metadata": {},
   "source": [
    "---"
   ]
  },
  {
   "cell_type": "markdown",
   "metadata": {},
   "source": [
    "## 02. Explanations for observation with the worst prediction"
   ]
  },
  {
   "cell_type": "markdown",
   "metadata": {},
   "source": [
    "---"
   ]
  },
  {
   "cell_type": "markdown",
   "metadata": {},
   "source": [
    "This notebook provides some explanations of final model for observation from test dataset for which difference between real value and predicted value was the biggest."
   ]
  },
  {
   "cell_type": "markdown",
   "metadata": {},
   "source": [
    "---"
   ]
  },
  {
   "cell_type": "markdown",
   "metadata": {},
   "source": [
    "### Import packages"
   ]
  },
  {
   "cell_type": "code",
   "execution_count": 1,
   "metadata": {},
   "outputs": [],
   "source": [
    "import functions as fun\n",
    "import pandas as pd\n",
    "import numpy as np\n",
    "import pickle\n",
    "import matplotlib.pyplot as plt\n",
    "import dalex as dx\n",
    "import lime\n",
    "import lime.lime_tabular\n",
    "\n",
    "from sklearn.metrics import r2_score, mean_squared_error, mean_absolute_error\n",
    "from ceteris_paribus.explainer import explain\n",
    "from ceteris_paribus.profiles import individual_variable_profile\n",
    "from ceteris_paribus.plots.plots import plot_notebook, plot\n",
    "from ceteris_paribus.select_data import select_neighbours\n",
    "from sklearn.inspection import permutation_importance"
   ]
  },
  {
   "cell_type": "markdown",
   "metadata": {},
   "source": [
    "### Load model to be explain"
   ]
  },
  {
   "cell_type": "code",
   "execution_count": 2,
   "metadata": {},
   "outputs": [],
   "source": [
    "pickle_in = open(\".\\..\\models\\XGB\\MEPS_xgb_model_final_v2.pickle\", \"rb\")\n",
    "reg_xgb = pickle.load(pickle_in)"
   ]
  },
  {
   "cell_type": "markdown",
   "metadata": {},
   "source": [
    "### Read data"
   ]
  },
  {
   "cell_type": "code",
   "execution_count": 3,
   "metadata": {},
   "outputs": [],
   "source": [
    "path = \".\\..\\data\\MEPS_data_preprocessed\"\n",
    "X_train, y_train = fun.read_x_y(path + \"_train.csv\", \"HEALTHEXP\")\n",
    "X_test, y_test = fun.read_x_y(path + \"_test.csv\", \"HEALTHEXP\")"
   ]
  },
  {
   "cell_type": "code",
   "execution_count": 4,
   "metadata": {},
   "outputs": [],
   "source": [
    "raw_test_data = pd.read_csv(path + \"_test.csv\")\n",
    "X_test_raw = raw_test_data.drop(\"HEALTHEXP\", axis = 1)\n",
    "y_test_raw = raw_test_data[\"HEALTHEXP\"]"
   ]
  },
  {
   "cell_type": "markdown",
   "metadata": {},
   "source": [
    "### Find and explore observation with the worst prediction"
   ]
  },
  {
   "cell_type": "code",
   "execution_count": 5,
   "metadata": {},
   "outputs": [],
   "source": [
    "y_pred_test = reg_xgb.predict(X_test)\n",
    "obs_idx = fun.find_nth_obs_idx(y_test, y_pred_test, -1)"
   ]
  },
  {
   "cell_type": "code",
   "execution_count": 6,
   "metadata": {},
   "outputs": [
    {
     "data": {
      "text/plain": [
       "0.0"
      ]
     },
     "execution_count": 6,
     "metadata": {},
     "output_type": "execute_result"
    }
   ],
   "source": [
    "# Real value (target transformed with log base 3)\n",
    "y_test[obs_idx]"
   ]
  },
  {
   "cell_type": "code",
   "execution_count": 7,
   "metadata": {},
   "outputs": [
    {
     "data": {
      "text/plain": [
       "0"
      ]
     },
     "execution_count": 7,
     "metadata": {},
     "output_type": "execute_result"
    }
   ],
   "source": [
    "# Real value (raw)\n",
    "y_test_raw[obs_idx]"
   ]
  },
  {
   "cell_type": "code",
   "execution_count": 8,
   "metadata": {},
   "outputs": [
    {
     "data": {
      "text/plain": [
       "8.55008543808286"
      ]
     },
     "execution_count": 8,
     "metadata": {},
     "output_type": "execute_result"
    }
   ],
   "source": [
    "# Predicted value\n",
    "y_pred_test[obs_idx]"
   ]
  },
  {
   "cell_type": "code",
   "execution_count": 9,
   "metadata": {},
   "outputs": [
    {
     "data": {
      "text/html": [
       "<div>\n",
       "<style scoped>\n",
       "    .dataframe tbody tr th:only-of-type {\n",
       "        vertical-align: middle;\n",
       "    }\n",
       "\n",
       "    .dataframe tbody tr th {\n",
       "        vertical-align: top;\n",
       "    }\n",
       "\n",
       "    .dataframe thead th {\n",
       "        text-align: right;\n",
       "    }\n",
       "</style>\n",
       "<table border=\"1\" class=\"dataframe\">\n",
       "  <thead>\n",
       "    <tr style=\"text-align: right;\">\n",
       "      <th></th>\n",
       "      <th>REGION</th>\n",
       "      <th>AGE31X</th>\n",
       "      <th>GENDER</th>\n",
       "      <th>RACE3</th>\n",
       "      <th>MARRY31X</th>\n",
       "      <th>EDRECODE</th>\n",
       "      <th>FTSTU31X</th>\n",
       "      <th>ACTDTY31</th>\n",
       "      <th>HONRDC31</th>\n",
       "      <th>RTHLTH31</th>\n",
       "      <th>...</th>\n",
       "      <th>DFSEE42</th>\n",
       "      <th>ADSMOK42</th>\n",
       "      <th>PCS42</th>\n",
       "      <th>MCS42</th>\n",
       "      <th>K6SUM42</th>\n",
       "      <th>PHQ242</th>\n",
       "      <th>EMPST31</th>\n",
       "      <th>POVCAT15</th>\n",
       "      <th>INSCOV15</th>\n",
       "      <th>INCOME_M</th>\n",
       "    </tr>\n",
       "  </thead>\n",
       "  <tbody>\n",
       "    <tr>\n",
       "      <th>3803</th>\n",
       "      <td>1</td>\n",
       "      <td>76</td>\n",
       "      <td>1.0</td>\n",
       "      <td>0.0</td>\n",
       "      <td>2</td>\n",
       "      <td>13</td>\n",
       "      <td>-1</td>\n",
       "      <td>4</td>\n",
       "      <td>2</td>\n",
       "      <td>5</td>\n",
       "      <td>...</td>\n",
       "      <td>1</td>\n",
       "      <td>-1</td>\n",
       "      <td>-1.0</td>\n",
       "      <td>-1.0</td>\n",
       "      <td>-1</td>\n",
       "      <td>-1</td>\n",
       "      <td>4</td>\n",
       "      <td>5</td>\n",
       "      <td>2</td>\n",
       "      <td>12345.0</td>\n",
       "    </tr>\n",
       "  </tbody>\n",
       "</table>\n",
       "<p>1 rows × 43 columns</p>\n",
       "</div>"
      ],
      "text/plain": [
       "      REGION  AGE31X  GENDER  RACE3  MARRY31X  EDRECODE  FTSTU31X  ACTDTY31  \\\n",
       "3803       1      76     1.0    0.0         2        13        -1         4   \n",
       "\n",
       "      HONRDC31  RTHLTH31  ...  DFSEE42  ADSMOK42  PCS42  MCS42  K6SUM42  \\\n",
       "3803         2         5  ...        1        -1   -1.0   -1.0       -1   \n",
       "\n",
       "      PHQ242  EMPST31  POVCAT15  INSCOV15  INCOME_M  \n",
       "3803      -1        4         5         2   12345.0  \n",
       "\n",
       "[1 rows x 43 columns]"
      ]
     },
     "execution_count": 9,
     "metadata": {},
     "output_type": "execute_result"
    }
   ],
   "source": [
    "# Observation\n",
    "X_test.iloc[[obs_idx], :]"
   ]
  },
  {
   "cell_type": "markdown",
   "metadata": {},
   "source": [
    "**Meaning of variables and their values:** <br/>\n",
    "* REGION = 1.0 \t - \t census region was northeast\n",
    "* AGE31X = 76.0 \t - \t 76 years old\n",
    "* GENDER = 1.0 \t - \t female\n",
    "* RACE3 = 0.0 \t - \t \n",
    "* MARRY31X = 2.0 \t - \t widowed\n",
    "* EDRECODE = 13.0 \t - \t GED or high school degree\n",
    "* FTSTU31X = -1.0 \t - \t student status - inapplicable\n",
    "* ACTDTY31 = 4.0 \t - \t military full-time active duty - over 59 - inapplicable\n",
    "* HONRDC31 = 2.0 \t - \t not honorably discharged from military\n",
    "* RTHLTH31 = 5.0 \t - \t perceived health status - poor\n",
    "* MNHLTH31 = 4.0 \t - \t perceived mental health status - fair\n",
    "* HIBPDX = 1.0 \t - \t high blood pressure diagnosed\n",
    "* CHDDX = 1.0 \t - \t coronary heart disease diagnosed\n",
    "* ANGIDX = 2.0 \t - \t angina wasn't diagnosed\n",
    "* MIDX = 2.0 \t - \t heart attack wasn't diagnosed\n",
    "* OHRTDX = 2.0 \t - \t any other heart diseases weren't diagnosed\n",
    "* STRKDX = 2.0 \t - \t stroke wasn't diagnosed\n",
    "* EMPHDX = 1.0 \t - \t emphysema diagnosed\n",
    "* CHBRON31 = 1.0 \t - \t chronic bronchitis diagnosed\n",
    "* CHOLDX = 1.0 \t - \t high cholesterol diagnosed\n",
    "* CANCERDX = 1.0 \t - \t cancer diagnosed\n",
    "* DIABDX = 2.0 \t - \t diabetes wasn't diagnosed\n",
    "* JTPAIN31 = 1.0 \t - \t joint pain last 12 months diagnosed\n",
    "* ARTHDX = 1.0 \t - \t arthritis diagnosed\n",
    "* ARTHTYPE = 1.0 \t - \t type of arthritis - rheumatoid\n",
    "* ASTHDX = 2.0 \t - \t asthma wasn't diagnosed\n",
    "* ADHDADDX = -1.0 \t - \t ADHD or ADD diagnosis - inapplicable\n",
    "* PREGNT31 = -1.0 \t - \t pregnant - inapplicable\n",
    "* WLKLIM31 = 1.0 \t - \t has limitation in physical functioning\n",
    "* ACTLIM31 = 1.0 \t - \t has any other limitation work/house work/school\n",
    "* SOCLIM31 = 1.0 \t - \t has social limitation\n",
    "* COGLIM31 = 1.0 \t - \t has cognitive limitation\n",
    "* DFHEAR42 = 2.0 \t - \t hasn't serious difficulty hearing\n",
    "* DFSEE42 = 1.0 \t - \t has serious difficulty see or wears glasses\n",
    "* ADSMOK42 = -1.0 \t - \t doesn't smoke\n",
    "* PCS42 = -1.0 \t - \t saq:phy component summry sf-12v2 imputed - inapplicable\n",
    "* MCS42 = -1.0 \t - \t mnt component summry sf-12v2 imputed - inapplicable\n",
    "* K6SUM42 = -1.0 \t - \t overall rating of feelings - inapplicable (last 30 days)\n",
    "* PHQ242 = -1.0 \t - \t overall rating of feelings - inapplicable (last 2 weeks)\n",
    "* EMPST31 = 4.0 \t - \t employment status - ?\n",
    "* POVCAT15 = 5.0 \t - \t family income as % of poverty line - high income\n",
    "* INSCOV15 = 2.0 \t - \t health insurance coverage indicator 2015 - public only\n",
    "* INCOME_M = 12345.0 - \t person total income = 12345.0 "
   ]
  }
 ],
 "metadata": {
  "kernelspec": {
   "display_name": "Python 3",
   "language": "python",
   "name": "python3"
  },
  "language_info": {
   "codemirror_mode": {
    "name": "ipython",
    "version": 3
   },
   "file_extension": ".py",
   "mimetype": "text/x-python",
   "name": "python",
   "nbconvert_exporter": "python",
   "pygments_lexer": "ipython3",
   "version": "3.7.4"
  }
 },
 "nbformat": 4,
 "nbformat_minor": 2
}
